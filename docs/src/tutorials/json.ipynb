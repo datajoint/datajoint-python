{
 "cells": [
  {
   "attachments": {},
   "cell_type": "markdown",
   "id": "7fe24127-c0d0-4ff8-96b4-6ab0d9307e73",
   "metadata": {},
   "source": [
    "# Using the `json` type"
   ]
  },
  {
   "cell_type": "markdown",
   "id": "62450023",
   "metadata": {},
   "source": [
    "> ⚠️ Note the following before using the `json` type\n",
    "> - Supported only for MySQL >= 8.0 when [JSON_VALUE](https://dev.mysql.com/doc/refman/8.0/en/json-search-functions.html#function_json-value) introduced.\n",
    "> - Equivalent Percona is fully-compatible.\n",
    "> - MariaDB is not supported since [JSON_VALUE](https://mariadb.com/kb/en/json_value/#syntax) does not allow type specification like MySQL's.\n",
    "> - Not yet supported in DataJoint MATLAB"
   ]
  },
  {
   "attachments": {},
   "cell_type": "markdown",
   "id": "67cf93d2",
   "metadata": {},
   "source": [
    "First you will need to [install](../../getting-started/#installation) and [connect](../../getting-started/#connection) to a DataJoint [data pipeline](https://datajoint.com/docs/core/glossary/#data-pipeline).\n",
    "\n",
    "Now let's start by importing the `datajoint` client."
   ]
  },
  {
   "cell_type": "code",
   "execution_count": 1,
   "id": "bc0b6f54-8f11-45f4-bf8d-e1058ee0056f",
   "metadata": {},
   "outputs": [],
   "source": [
    "import datajoint as dj\n"
   ]
  },
  {
   "cell_type": "markdown",
   "id": "3544cab9-f2db-458a-9431-939bea5affc5",
   "metadata": {},
   "source": [
    "## Table Definition"
   ]
  },
  {
   "cell_type": "markdown",
   "id": "a2998c71",
   "metadata": {},
   "source": [
    "For this exercise, let's imagine we work for an awesome company that is organizing a fun RC car race across various teams in the company. Let's see which team has the fastest car! 🏎️\n",
    "\n",
    "This establishes 2 important entities: a `Team` and a `Car`. Normally we'd map this to their own dedicated table, however, let's assume that `Team` is well-structured but `Car` is less structured then we'd prefer. In other words, the structure for what makes up a *car* is varing too much between entries (perhaps because users of the pipeline haven't agreed yet on the definition? 🤷).\n",
    "\n",
    "This would make it a good use-case to keep `Team` as a table but make `Car` actually a `json` type defined within the `Team` table.\n",
    "\n",
    "Let's begin."
   ]
  },
  {
   "cell_type": "code",
   "execution_count": 2,
   "id": "dc318298-b819-4f06-abbd-7bb7544dd431",
   "metadata": {},
   "outputs": [
    {
     "name": "stderr",
     "output_type": "stream",
     "text": [
      "[2023-02-12 00:14:33,027][INFO]: Connecting root@fakeservices.datajoint.io:3306\n",
      "[2023-02-12 00:14:33,039][INFO]: Connected root@fakeservices.datajoint.io:3306\n"
     ]
    }
   ],
   "source": [
    "schema = dj.Schema(f\"{dj.config['database.user']}_json\")\n"
   ]
  },
  {
   "cell_type": "code",
   "execution_count": 3,
   "id": "4aaf96db-85d9-4e94-a4c3-3558f4cc6671",
   "metadata": {},
   "outputs": [],
   "source": [
    "@schema\n",
    "class Team(dj.Lookup):\n",
    "    definition = \"\"\"\n",
    "    # A team within a company\n",
    "    name: varchar(40)  # team name\n",
    "    ---\n",
    "    car=null: json  # A car belonging to a team (null to allow registering first but specifying car later)\n",
    "    \n",
    "    unique index(car.length:decimal(4, 1))  # Add an index if this key is frequently accessed\n",
    "    \"\"\"\n"
   ]
  },
  {
   "cell_type": "markdown",
   "id": "640bf7a7-9e07-4953-9c8a-304e55c467f8",
   "metadata": {},
   "source": [
    "## Insert"
   ]
  },
  {
   "cell_type": "markdown",
   "id": "7081e577",
   "metadata": {},
   "source": [
    "Let's suppose that engineering is first up to register their car."
   ]
  },
  {
   "cell_type": "code",
   "execution_count": 4,
   "id": "30f0d62e",
   "metadata": {},
   "outputs": [],
   "source": [
    "Team.insert1(\n",
    "    {\n",
    "        \"name\": \"engineering\",\n",
    "        \"car\": {\n",
    "            \"name\": \"Rever\",\n",
    "            \"length\": 20.5,\n",
    "            \"inspected\": True,\n",
    "            \"tire_pressure\": [32, 31, 33, 34],\n",
    "            \"headlights\": [\n",
    "                {\n",
    "                    \"side\": \"left\",\n",
    "                    \"hyper_white\": None,\n",
    "                },\n",
    "                {\n",
    "                    \"side\": \"right\",\n",
    "                    \"hyper_white\": None,\n",
    "                },\n",
    "            ],\n",
    "        },\n",
    "    }\n",
    ")\n"
   ]
  },
  {
   "cell_type": "markdown",
   "id": "ee5e4dcf",
   "metadata": {},
   "source": [
    "Next, business and marketing teams are up and register their cars.\n",
    "\n",
    "A few points to notice below:\n",
    "- The person signing up on behalf of marketing does not know the specifics of the car during registration but another team member will be updating this soon before the race.\n",
    "- Notice how the `business` and `engineering` teams appear to specify the same property but refer to it as `safety_inspected` and `inspected` respectfully."
   ]
  },
  {
   "cell_type": "code",
   "execution_count": 5,
   "id": "b532e16c",
   "metadata": {},
   "outputs": [],
   "source": [
    "Team.insert(\n",
    "    [\n",
    "        {\n",
    "            \"name\": \"marketing\",\n",
    "            \"car\": None,\n",
    "        },\n",
    "        {\n",
    "            \"name\": \"business\",\n",
    "            \"car\": {\n",
    "                \"name\": \"Chaching\",\n",
    "                \"length\": 100,\n",
    "                \"safety_inspected\": False,\n",
    "                \"tire_pressure\": [34, 30, 27, 32],\n",
    "                \"headlights\": [\n",
    "                    {\n",
    "                        \"side\": \"left\",\n",
    "                        \"hyper_white\": True,\n",
    "                    },\n",
    "                    {\n",
    "                        \"side\": \"right\",\n",
    "                        \"hyper_white\": True,\n",
    "                    },\n",
    "                ],\n",
    "            },\n",
    "        },\n",
    "    ]\n",
    ")\n"
   ]
  },
  {
   "cell_type": "markdown",
   "id": "57365de7",
   "metadata": {},
   "source": [
    "We can preview the table data much like normal but notice how the value of `car` behaves like other BLOB-like attributes."
   ]
  },
  {
   "cell_type": "code",
   "execution_count": 6,
   "id": "0e3b517c",
   "metadata": {},
   "outputs": [
    {
     "data": {
      "text/html": [
       "\n",
       "    \n",
       "    <style type=\"text/css\">\n",
       "        .Table{\n",
       "            border-collapse:collapse;\n",
       "        }\n",
       "        .Table th{\n",
       "            background: #A0A0A0; color: #ffffff; padding:4px; border:#f0e0e0 1px solid;\n",
       "            font-weight: normal; font-family: monospace; font-size: 100%;\n",
       "        }\n",
       "        .Table td{\n",
       "            padding:4px; border:#f0e0e0 1px solid; font-size:100%;\n",
       "        }\n",
       "        .Table tr:nth-child(odd){\n",
       "            background: #ffffff;\n",
       "        }\n",
       "        .Table tr:nth-child(even){\n",
       "            background: #f3f1ff;\n",
       "        }\n",
       "        /* Tooltip container */\n",
       "        .djtooltip {\n",
       "        }\n",
       "        /* Tooltip text */\n",
       "        .djtooltip .djtooltiptext {\n",
       "            visibility: hidden;\n",
       "            width: 120px;\n",
       "            background-color: black;\n",
       "            color: #fff;\n",
       "            text-align: center;\n",
       "            padding: 5px 0;\n",
       "            border-radius: 6px;\n",
       "            /* Position the tooltip text - see examples below! */\n",
       "            position: absolute;\n",
       "            z-index: 1;\n",
       "        }\n",
       "        #primary {\n",
       "            font-weight: bold;\n",
       "            color: black;\n",
       "        }\n",
       "        #nonprimary {\n",
       "            font-weight: normal;\n",
       "            color: white;\n",
       "        }\n",
       "\n",
       "        /* Show the tooltip text when you mouse over the tooltip container */\n",
       "        .djtooltip:hover .djtooltiptext {\n",
       "            visibility: visible;\n",
       "        }\n",
       "    </style>\n",
       "    \n",
       "    <b>A team within a company</b>\n",
       "        <div style=\"max-height:1000px;max-width:1500px;overflow:auto;\">\n",
       "        <table border=\"1\" class=\"Table\">\n",
       "            <thead> <tr style=\"text-align: right;\"> <th> <div class=\"djtooltip\">\n",
       "                            <p id=\"primary\">name</p>\n",
       "                            <span class=\"djtooltiptext\">team name</span>\n",
       "                        </div></th><th><div class=\"djtooltip\">\n",
       "                            <p id=\"nonprimary\">car</p>\n",
       "                            <span class=\"djtooltiptext\">A car belonging to a team (null to allow registering first but specifying car later)</span>\n",
       "                        </div> </th> </tr> </thead>\n",
       "            <tbody> <tr> <td>marketing</td>\n",
       "<td>=BLOB=</td></tr><tr><td>engineering</td>\n",
       "<td>=BLOB=</td></tr><tr><td>business</td>\n",
       "<td>=BLOB=</td> </tr> </tbody>\n",
       "        </table>\n",
       "        \n",
       "        <p>Total: 3</p></div>\n",
       "        "
      ],
      "text/plain": [
       "*name          car       \n",
       "+------------+ +--------+\n",
       "marketing      =BLOB=    \n",
       "engineering    =BLOB=    \n",
       "business       =BLOB=    \n",
       " (Total: 3)"
      ]
     },
     "execution_count": 6,
     "metadata": {},
     "output_type": "execute_result"
    }
   ],
   "source": [
    "Team()"
   ]
  },
  {
   "cell_type": "markdown",
   "id": "c95cbbee-4ef7-4870-ad42-a60345a3644f",
   "metadata": {},
   "source": [
    "## Restriction"
   ]
  },
  {
   "cell_type": "markdown",
   "id": "8b454996",
   "metadata": {},
   "source": [
    "Now let's see what kinds of queries we can form to demostrate how we can query this pipeline."
   ]
  },
  {
   "cell_type": "code",
   "execution_count": 7,
   "id": "81efda24",
   "metadata": {},
   "outputs": [
    {
     "data": {
      "text/html": [
       "\n",
       "    \n",
       "    <style type=\"text/css\">\n",
       "        .Table{\n",
       "            border-collapse:collapse;\n",
       "        }\n",
       "        .Table th{\n",
       "            background: #A0A0A0; color: #ffffff; padding:4px; border:#f0e0e0 1px solid;\n",
       "            font-weight: normal; font-family: monospace; font-size: 100%;\n",
       "        }\n",
       "        .Table td{\n",
       "            padding:4px; border:#f0e0e0 1px solid; font-size:100%;\n",
       "        }\n",
       "        .Table tr:nth-child(odd){\n",
       "            background: #ffffff;\n",
       "        }\n",
       "        .Table tr:nth-child(even){\n",
       "            background: #f3f1ff;\n",
       "        }\n",
       "        /* Tooltip container */\n",
       "        .djtooltip {\n",
       "        }\n",
       "        /* Tooltip text */\n",
       "        .djtooltip .djtooltiptext {\n",
       "            visibility: hidden;\n",
       "            width: 120px;\n",
       "            background-color: black;\n",
       "            color: #fff;\n",
       "            text-align: center;\n",
       "            padding: 5px 0;\n",
       "            border-radius: 6px;\n",
       "            /* Position the tooltip text - see examples below! */\n",
       "            position: absolute;\n",
       "            z-index: 1;\n",
       "        }\n",
       "        #primary {\n",
       "            font-weight: bold;\n",
       "            color: black;\n",
       "        }\n",
       "        #nonprimary {\n",
       "            font-weight: normal;\n",
       "            color: white;\n",
       "        }\n",
       "\n",
       "        /* Show the tooltip text when you mouse over the tooltip container */\n",
       "        .djtooltip:hover .djtooltiptext {\n",
       "            visibility: visible;\n",
       "        }\n",
       "    </style>\n",
       "    \n",
       "    <b>A team within a company</b>\n",
       "        <div style=\"max-height:1000px;max-width:1500px;overflow:auto;\">\n",
       "        <table border=\"1\" class=\"Table\">\n",
       "            <thead> <tr style=\"text-align: right;\"> <th> <div class=\"djtooltip\">\n",
       "                            <p id=\"primary\">name</p>\n",
       "                            <span class=\"djtooltiptext\">team name</span>\n",
       "                        </div></th><th><div class=\"djtooltip\">\n",
       "                            <p id=\"nonprimary\">car</p>\n",
       "                            <span class=\"djtooltiptext\">A car belonging to a team (null to allow registering first but specifying car later)</span>\n",
       "                        </div> </th> </tr> </thead>\n",
       "            <tbody> <tr> <td>business</td>\n",
       "<td>=BLOB=</td> </tr> </tbody>\n",
       "        </table>\n",
       "        \n",
       "        <p>Total: 1</p></div>\n",
       "        "
      ],
      "text/plain": [
       "*name        car       \n",
       "+----------+ +--------+\n",
       "business     =BLOB=    \n",
       " (Total: 1)"
      ]
     },
     "execution_count": 7,
     "metadata": {},
     "output_type": "execute_result"
    }
   ],
   "source": [
    "# Which team has a `car` equal to 100 inches long?\n",
    "Team & {'car.length': 100}"
   ]
  },
  {
   "cell_type": "code",
   "execution_count": 8,
   "id": "fd7b855d",
   "metadata": {},
   "outputs": [
    {
     "data": {
      "text/html": [
       "\n",
       "    \n",
       "    <style type=\"text/css\">\n",
       "        .Table{\n",
       "            border-collapse:collapse;\n",
       "        }\n",
       "        .Table th{\n",
       "            background: #A0A0A0; color: #ffffff; padding:4px; border:#f0e0e0 1px solid;\n",
       "            font-weight: normal; font-family: monospace; font-size: 100%;\n",
       "        }\n",
       "        .Table td{\n",
       "            padding:4px; border:#f0e0e0 1px solid; font-size:100%;\n",
       "        }\n",
       "        .Table tr:nth-child(odd){\n",
       "            background: #ffffff;\n",
       "        }\n",
       "        .Table tr:nth-child(even){\n",
       "            background: #f3f1ff;\n",
       "        }\n",
       "        /* Tooltip container */\n",
       "        .djtooltip {\n",
       "        }\n",
       "        /* Tooltip text */\n",
       "        .djtooltip .djtooltiptext {\n",
       "            visibility: hidden;\n",
       "            width: 120px;\n",
       "            background-color: black;\n",
       "            color: #fff;\n",
       "            text-align: center;\n",
       "            padding: 5px 0;\n",
       "            border-radius: 6px;\n",
       "            /* Position the tooltip text - see examples below! */\n",
       "            position: absolute;\n",
       "            z-index: 1;\n",
       "        }\n",
       "        #primary {\n",
       "            font-weight: bold;\n",
       "            color: black;\n",
       "        }\n",
       "        #nonprimary {\n",
       "            font-weight: normal;\n",
       "            color: white;\n",
       "        }\n",
       "\n",
       "        /* Show the tooltip text when you mouse over the tooltip container */\n",
       "        .djtooltip:hover .djtooltiptext {\n",
       "            visibility: visible;\n",
       "        }\n",
       "    </style>\n",
       "    \n",
       "    <b>A team within a company</b>\n",
       "        <div style=\"max-height:1000px;max-width:1500px;overflow:auto;\">\n",
       "        <table border=\"1\" class=\"Table\">\n",
       "            <thead> <tr style=\"text-align: right;\"> <th> <div class=\"djtooltip\">\n",
       "                            <p id=\"primary\">name</p>\n",
       "                            <span class=\"djtooltiptext\">team name</span>\n",
       "                        </div></th><th><div class=\"djtooltip\">\n",
       "                            <p id=\"nonprimary\">car</p>\n",
       "                            <span class=\"djtooltiptext\">A car belonging to a team (null to allow registering first but specifying car later)</span>\n",
       "                        </div> </th> </tr> </thead>\n",
       "            <tbody> <tr> <td>engineering</td>\n",
       "<td>=BLOB=</td> </tr> </tbody>\n",
       "        </table>\n",
       "        \n",
       "        <p>Total: 1</p></div>\n",
       "        "
      ],
      "text/plain": [
       "*name          car       \n",
       "+------------+ +--------+\n",
       "engineering    =BLOB=    \n",
       " (Total: 1)"
      ]
     },
     "execution_count": 8,
     "metadata": {},
     "output_type": "execute_result"
    }
   ],
   "source": [
    "# Which team has a `car` less than 50 inches long?\n",
    "Team & \"car->>'$.length' < 50\""
   ]
  },
  {
   "cell_type": "code",
   "execution_count": 9,
   "id": "b76ebb75",
   "metadata": {},
   "outputs": [
    {
     "data": {
      "text/html": [
       "\n",
       "    \n",
       "    <style type=\"text/css\">\n",
       "        .Table{\n",
       "            border-collapse:collapse;\n",
       "        }\n",
       "        .Table th{\n",
       "            background: #A0A0A0; color: #ffffff; padding:4px; border:#f0e0e0 1px solid;\n",
       "            font-weight: normal; font-family: monospace; font-size: 100%;\n",
       "        }\n",
       "        .Table td{\n",
       "            padding:4px; border:#f0e0e0 1px solid; font-size:100%;\n",
       "        }\n",
       "        .Table tr:nth-child(odd){\n",
       "            background: #ffffff;\n",
       "        }\n",
       "        .Table tr:nth-child(even){\n",
       "            background: #f3f1ff;\n",
       "        }\n",
       "        /* Tooltip container */\n",
       "        .djtooltip {\n",
       "        }\n",
       "        /* Tooltip text */\n",
       "        .djtooltip .djtooltiptext {\n",
       "            visibility: hidden;\n",
       "            width: 120px;\n",
       "            background-color: black;\n",
       "            color: #fff;\n",
       "            text-align: center;\n",
       "            padding: 5px 0;\n",
       "            border-radius: 6px;\n",
       "            /* Position the tooltip text - see examples below! */\n",
       "            position: absolute;\n",
       "            z-index: 1;\n",
       "        }\n",
       "        #primary {\n",
       "            font-weight: bold;\n",
       "            color: black;\n",
       "        }\n",
       "        #nonprimary {\n",
       "            font-weight: normal;\n",
       "            color: white;\n",
       "        }\n",
       "\n",
       "        /* Show the tooltip text when you mouse over the tooltip container */\n",
       "        .djtooltip:hover .djtooltiptext {\n",
       "            visibility: visible;\n",
       "        }\n",
       "    </style>\n",
       "    \n",
       "    <b>A team within a company</b>\n",
       "        <div style=\"max-height:1000px;max-width:1500px;overflow:auto;\">\n",
       "        <table border=\"1\" class=\"Table\">\n",
       "            <thead> <tr style=\"text-align: right;\"> <th> <div class=\"djtooltip\">\n",
       "                            <p id=\"primary\">name</p>\n",
       "                            <span class=\"djtooltiptext\">team name</span>\n",
       "                        </div></th><th><div class=\"djtooltip\">\n",
       "                            <p id=\"nonprimary\">car</p>\n",
       "                            <span class=\"djtooltiptext\">A car belonging to a team (null to allow registering first but specifying car later)</span>\n",
       "                        </div> </th> </tr> </thead>\n",
       "            <tbody> <tr> <td>engineering</td>\n",
       "<td>=BLOB=</td> </tr> </tbody>\n",
       "        </table>\n",
       "        \n",
       "        <p>Total: 1</p></div>\n",
       "        "
      ],
      "text/plain": [
       "*name          car       \n",
       "+------------+ +--------+\n",
       "engineering    =BLOB=    \n",
       " (Total: 1)"
      ]
     },
     "execution_count": 9,
     "metadata": {},
     "output_type": "execute_result"
    }
   ],
   "source": [
    "# Any team that has had their car inspected?\n",
    "Team & [{'car.inspected:unsigned': True}, {'car.safety_inspected:unsigned': True}]"
   ]
  },
  {
   "cell_type": "code",
   "execution_count": 10,
   "id": "b787784c",
   "metadata": {},
   "outputs": [
    {
     "data": {
      "text/html": [
       "\n",
       "    \n",
       "    <style type=\"text/css\">\n",
       "        .Table{\n",
       "            border-collapse:collapse;\n",
       "        }\n",
       "        .Table th{\n",
       "            background: #A0A0A0; color: #ffffff; padding:4px; border:#f0e0e0 1px solid;\n",
       "            font-weight: normal; font-family: monospace; font-size: 100%;\n",
       "        }\n",
       "        .Table td{\n",
       "            padding:4px; border:#f0e0e0 1px solid; font-size:100%;\n",
       "        }\n",
       "        .Table tr:nth-child(odd){\n",
       "            background: #ffffff;\n",
       "        }\n",
       "        .Table tr:nth-child(even){\n",
       "            background: #f3f1ff;\n",
       "        }\n",
       "        /* Tooltip container */\n",
       "        .djtooltip {\n",
       "        }\n",
       "        /* Tooltip text */\n",
       "        .djtooltip .djtooltiptext {\n",
       "            visibility: hidden;\n",
       "            width: 120px;\n",
       "            background-color: black;\n",
       "            color: #fff;\n",
       "            text-align: center;\n",
       "            padding: 5px 0;\n",
       "            border-radius: 6px;\n",
       "            /* Position the tooltip text - see examples below! */\n",
       "            position: absolute;\n",
       "            z-index: 1;\n",
       "        }\n",
       "        #primary {\n",
       "            font-weight: bold;\n",
       "            color: black;\n",
       "        }\n",
       "        #nonprimary {\n",
       "            font-weight: normal;\n",
       "            color: white;\n",
       "        }\n",
       "\n",
       "        /* Show the tooltip text when you mouse over the tooltip container */\n",
       "        .djtooltip:hover .djtooltiptext {\n",
       "            visibility: visible;\n",
       "        }\n",
       "    </style>\n",
       "    \n",
       "    <b>A team within a company</b>\n",
       "        <div style=\"max-height:1000px;max-width:1500px;overflow:auto;\">\n",
       "        <table border=\"1\" class=\"Table\">\n",
       "            <thead> <tr style=\"text-align: right;\"> <th> <div class=\"djtooltip\">\n",
       "                            <p id=\"primary\">name</p>\n",
       "                            <span class=\"djtooltiptext\">team name</span>\n",
       "                        </div></th><th><div class=\"djtooltip\">\n",
       "                            <p id=\"nonprimary\">car</p>\n",
       "                            <span class=\"djtooltiptext\">A car belonging to a team (null to allow registering first but specifying car later)</span>\n",
       "                        </div> </th> </tr> </thead>\n",
       "            <tbody> <tr> <td>engineering</td>\n",
       "<td>=BLOB=</td></tr><tr><td>marketing</td>\n",
       "<td>=BLOB=</td> </tr> </tbody>\n",
       "        </table>\n",
       "        \n",
       "        <p>Total: 2</p></div>\n",
       "        "
      ],
      "text/plain": [
       "*name          car       \n",
       "+------------+ +--------+\n",
       "engineering    =BLOB=    \n",
       "marketing      =BLOB=    \n",
       " (Total: 2)"
      ]
     },
     "execution_count": 10,
     "metadata": {},
     "output_type": "execute_result"
    }
   ],
   "source": [
    "# Which teams do not have hyper white lights for their first head light?\n",
    "Team & {\"car.headlights[0].hyper_white\": None}"
   ]
  },
  {
   "cell_type": "markdown",
   "id": "5bcf0b5d",
   "metadata": {},
   "source": [
    "Notice that the previous query will satisfy the `None` check if it experiences any of the following scenarious:\n",
    "- if entire record missing (`marketing` satisfies this)\n",
    "- JSON key is missing\n",
    "- JSON value is set to JSON `null` (`engineering` satisfies this)"
   ]
  },
  {
   "attachments": {},
   "cell_type": "markdown",
   "id": "bcf1682e-a0c7-4c2f-826b-0aec9052a694",
   "metadata": {},
   "source": [
    "## Projection"
   ]
  },
  {
   "attachments": {},
   "cell_type": "markdown",
   "id": "daea110e",
   "metadata": {},
   "source": [
    "Projections can be quite useful with the `json` type since we can extract out just what we need. This allows greater query flexibility but more importantly, for us to be able to fetch only what is pertinent."
   ]
  },
  {
   "cell_type": "code",
   "execution_count": 11,
   "id": "8fb8334a",
   "metadata": {},
   "outputs": [
    {
     "data": {
      "text/html": [
       "\n",
       "    \n",
       "    <style type=\"text/css\">\n",
       "        .Table{\n",
       "            border-collapse:collapse;\n",
       "        }\n",
       "        .Table th{\n",
       "            background: #A0A0A0; color: #ffffff; padding:4px; border:#f0e0e0 1px solid;\n",
       "            font-weight: normal; font-family: monospace; font-size: 100%;\n",
       "        }\n",
       "        .Table td{\n",
       "            padding:4px; border:#f0e0e0 1px solid; font-size:100%;\n",
       "        }\n",
       "        .Table tr:nth-child(odd){\n",
       "            background: #ffffff;\n",
       "        }\n",
       "        .Table tr:nth-child(even){\n",
       "            background: #f3f1ff;\n",
       "        }\n",
       "        /* Tooltip container */\n",
       "        .djtooltip {\n",
       "        }\n",
       "        /* Tooltip text */\n",
       "        .djtooltip .djtooltiptext {\n",
       "            visibility: hidden;\n",
       "            width: 120px;\n",
       "            background-color: black;\n",
       "            color: #fff;\n",
       "            text-align: center;\n",
       "            padding: 5px 0;\n",
       "            border-radius: 6px;\n",
       "            /* Position the tooltip text - see examples below! */\n",
       "            position: absolute;\n",
       "            z-index: 1;\n",
       "        }\n",
       "        #primary {\n",
       "            font-weight: bold;\n",
       "            color: black;\n",
       "        }\n",
       "        #nonprimary {\n",
       "            font-weight: normal;\n",
       "            color: white;\n",
       "        }\n",
       "\n",
       "        /* Show the tooltip text when you mouse over the tooltip container */\n",
       "        .djtooltip:hover .djtooltiptext {\n",
       "            visibility: visible;\n",
       "        }\n",
       "    </style>\n",
       "    \n",
       "    \n",
       "        <div style=\"max-height:1000px;max-width:1500px;overflow:auto;\">\n",
       "        <table border=\"1\" class=\"Table\">\n",
       "            <thead> <tr style=\"text-align: right;\"> <th> <div class=\"djtooltip\">\n",
       "                            <p id=\"primary\">name</p>\n",
       "                            <span class=\"djtooltiptext\">team name</span>\n",
       "                        </div></th><th><div class=\"djtooltip\">\n",
       "                            <p id=\"nonprimary\">car_name</p>\n",
       "                            <span class=\"djtooltiptext\">calculated attribute</span>\n",
       "                        </div></th><th><div class=\"djtooltip\">\n",
       "                            <p id=\"nonprimary\">car_length</p>\n",
       "                            <span class=\"djtooltiptext\">calculated attribute</span>\n",
       "                        </div> </th> </tr> </thead>\n",
       "            <tbody> <tr> <td>business</td>\n",
       "<td>Chaching</td>\n",
       "<td>100</td></tr><tr><td>engineering</td>\n",
       "<td>Rever</td>\n",
       "<td>20.5</td></tr><tr><td>marketing</td>\n",
       "<td>None</td>\n",
       "<td>None</td> </tr> </tbody>\n",
       "        </table>\n",
       "        \n",
       "        <p>Total: 3</p></div>\n",
       "        "
      ],
      "text/plain": [
       "*name          car_name     car_length    \n",
       "+------------+ +----------+ +------------+\n",
       "business       Chaching     100           \n",
       "engineering    Rever        20.5          \n",
       "marketing      None         None          \n",
       " (Total: 3)"
      ]
     },
     "execution_count": 11,
     "metadata": {},
     "output_type": "execute_result"
    }
   ],
   "source": [
    "# Only interested in the car names and the length but let the type be inferred\n",
    "q_untyped = Team.proj(\n",
    "    car_name='car.name',\n",
    "    car_length=\"car.length\",\n",
    ")\n",
    "q_untyped"
   ]
  },
  {
   "cell_type": "code",
   "execution_count": 12,
   "id": "bb5f0448",
   "metadata": {},
   "outputs": [
    {
     "data": {
      "text/plain": [
       "[{'name': 'business', 'car_name': 'Chaching', 'car_length': '100'},\n",
       " {'name': 'engineering', 'car_name': 'Rever', 'car_length': '20.5'},\n",
       " {'name': 'marketing', 'car_name': None, 'car_length': None}]"
      ]
     },
     "execution_count": 12,
     "metadata": {},
     "output_type": "execute_result"
    }
   ],
   "source": [
    "q_untyped.fetch(as_dict=True)"
   ]
  },
  {
   "cell_type": "code",
   "execution_count": 13,
   "id": "a307dfd7",
   "metadata": {},
   "outputs": [
    {
     "data": {
      "text/html": [
       "\n",
       "    \n",
       "    <style type=\"text/css\">\n",
       "        .Table{\n",
       "            border-collapse:collapse;\n",
       "        }\n",
       "        .Table th{\n",
       "            background: #A0A0A0; color: #ffffff; padding:4px; border:#f0e0e0 1px solid;\n",
       "            font-weight: normal; font-family: monospace; font-size: 100%;\n",
       "        }\n",
       "        .Table td{\n",
       "            padding:4px; border:#f0e0e0 1px solid; font-size:100%;\n",
       "        }\n",
       "        .Table tr:nth-child(odd){\n",
       "            background: #ffffff;\n",
       "        }\n",
       "        .Table tr:nth-child(even){\n",
       "            background: #f3f1ff;\n",
       "        }\n",
       "        /* Tooltip container */\n",
       "        .djtooltip {\n",
       "        }\n",
       "        /* Tooltip text */\n",
       "        .djtooltip .djtooltiptext {\n",
       "            visibility: hidden;\n",
       "            width: 120px;\n",
       "            background-color: black;\n",
       "            color: #fff;\n",
       "            text-align: center;\n",
       "            padding: 5px 0;\n",
       "            border-radius: 6px;\n",
       "            /* Position the tooltip text - see examples below! */\n",
       "            position: absolute;\n",
       "            z-index: 1;\n",
       "        }\n",
       "        #primary {\n",
       "            font-weight: bold;\n",
       "            color: black;\n",
       "        }\n",
       "        #nonprimary {\n",
       "            font-weight: normal;\n",
       "            color: white;\n",
       "        }\n",
       "\n",
       "        /* Show the tooltip text when you mouse over the tooltip container */\n",
       "        .djtooltip:hover .djtooltiptext {\n",
       "            visibility: visible;\n",
       "        }\n",
       "    </style>\n",
       "    \n",
       "    \n",
       "        <div style=\"max-height:1000px;max-width:1500px;overflow:auto;\">\n",
       "        <table border=\"1\" class=\"Table\">\n",
       "            <thead> <tr style=\"text-align: right;\"> <th> <div class=\"djtooltip\">\n",
       "                            <p id=\"primary\">name</p>\n",
       "                            <span class=\"djtooltiptext\">team name</span>\n",
       "                        </div></th><th><div class=\"djtooltip\">\n",
       "                            <p id=\"nonprimary\">car_name</p>\n",
       "                            <span class=\"djtooltiptext\">calculated attribute</span>\n",
       "                        </div></th><th><div class=\"djtooltip\">\n",
       "                            <p id=\"nonprimary\">car_length</p>\n",
       "                            <span class=\"djtooltiptext\">calculated attribute</span>\n",
       "                        </div> </th> </tr> </thead>\n",
       "            <tbody> <tr> <td>business</td>\n",
       "<td>Chaching</td>\n",
       "<td>100.0</td></tr><tr><td>engineering</td>\n",
       "<td>Rever</td>\n",
       "<td>20.5</td></tr><tr><td>marketing</td>\n",
       "<td>None</td>\n",
       "<td>None</td> </tr> </tbody>\n",
       "        </table>\n",
       "        \n",
       "        <p>Total: 3</p></div>\n",
       "        "
      ],
      "text/plain": [
       "*name          car_name     car_length    \n",
       "+------------+ +----------+ +------------+\n",
       "business       Chaching     100.0         \n",
       "engineering    Rever        20.5          \n",
       "marketing      None         None          \n",
       " (Total: 3)"
      ]
     },
     "execution_count": 13,
     "metadata": {},
     "output_type": "execute_result"
    }
   ],
   "source": [
    "# Nevermind, I'll specify the type explicitly\n",
    "q_typed = Team.proj(\n",
    "    car_name='car.name',\n",
    "    car_length=\"car.length:float\",\n",
    ")\n",
    "q_typed"
   ]
  },
  {
   "cell_type": "code",
   "execution_count": 14,
   "id": "8a93dbf9",
   "metadata": {},
   "outputs": [
    {
     "data": {
      "text/plain": [
       "[{'name': 'business', 'car_name': 'Chaching', 'car_length': 100.0},\n",
       " {'name': 'engineering', 'car_name': 'Rever', 'car_length': 20.5},\n",
       " {'name': 'marketing', 'car_name': None, 'car_length': None}]"
      ]
     },
     "execution_count": 14,
     "metadata": {},
     "output_type": "execute_result"
    }
   ],
   "source": [
    "q_typed.fetch(as_dict=True)"
   ]
  },
  {
   "cell_type": "markdown",
   "id": "62dd0239-fa70-4369-81eb-3d46c5053fee",
   "metadata": {},
   "source": [
    "## Describe"
   ]
  },
  {
   "attachments": {},
   "cell_type": "markdown",
   "id": "73d9df01",
   "metadata": {},
   "source": [
    "Lastly, the `.describe()` function on the `Team` table can help us generate the table's definition. This is useful if we are connected directly to the pipeline without the original source."
   ]
  },
  {
   "cell_type": "code",
   "execution_count": 16,
   "id": "0e739932",
   "metadata": {},
   "outputs": [
    {
     "name": "stdout",
     "output_type": "stream",
     "text": [
      "# A team within a company\n",
      "name                 : varchar(40)                  # team name\n",
      "---\n",
      "car=null             : json                         # A car belonging to a team (null to allow registering first but specifying car later)\n",
      "UNIQUE INDEX ((json_value(`car`, _utf8mb4'$.length' returning decimal(4, 1))))\n",
      "\n"
     ]
    }
   ],
   "source": [
    "rebuilt_definition = Team.describe()\n",
    "print(rebuilt_definition)"
   ]
  },
  {
   "cell_type": "markdown",
   "id": "be1070d5-765b-4bc2-92de-8a6ffd885984",
   "metadata": {},
   "source": [
    "## Cleanup"
   ]
  },
  {
   "attachments": {},
   "cell_type": "markdown",
   "id": "cb959927",
   "metadata": {},
   "source": [
    "Finally, let's clean up what we created in this tutorial."
   ]
  },
  {
   "cell_type": "code",
   "execution_count": 17,
   "id": "d9cc28a3-3ffd-4126-b7e9-bc6365040b93",
   "metadata": {},
   "outputs": [],
   "source": [
    "schema.drop()\n"
   ]
  },
  {
   "cell_type": "code",
   "execution_count": null,
   "id": "68ad4340",
   "metadata": {},
   "outputs": [],
   "source": []
  }
 ],
 "metadata": {
  "kernelspec": {
   "display_name": "Python 3.7.16 64-bit",
   "language": "python",
   "name": "python3"
  },
  "language_info": {
   "codemirror_mode": {
    "name": "ipython",
    "version": 3
   },
   "file_extension": ".py",
   "mimetype": "text/x-python",
   "name": "python",
   "nbconvert_exporter": "python",
   "pygments_lexer": "ipython3",
   "version": "3.7.16"
  },
  "vscode": {
   "interpreter": {
    "hash": "949777d72b0d2535278d3dc13498b2535136f6dfe0678499012e853ee9abcab1"
   }
  }
 },
 "nbformat": 4,
 "nbformat_minor": 5
}
